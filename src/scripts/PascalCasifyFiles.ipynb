{
 "cells": [
  {
   "cell_type": "code",
   "execution_count": 2,
   "metadata": {},
   "outputs": [],
   "source": [
    "import os"
   ]
  },
  {
   "cell_type": "code",
   "execution_count": 3,
   "metadata": {},
   "outputs": [],
   "source": [
    "# os.curdir\n",
    "vis_dir = '../visuals'\n",
    "vis_folders = os.listdir(vis_dir)"
   ]
  },
  {
   "cell_type": "code",
   "execution_count": 5,
   "metadata": {},
   "outputs": [
    {
     "name": "stdout",
     "output_type": "stream",
     "text": [
      "2021-07-10-redlining\n",
      "2021-08-22-berkeley-guide-orientation\n",
      "2021-11-22-rent-shelter\n",
      "2021-11-23-hate-crimes\n",
      "2022-01-21-exodus\n",
      "2022-03-17-gym-pac-12\n",
      "2022-04-20-stem-enrollment\n",
      "2022-05-04-1921-timeline\n",
      "2022-09-15-study-abroad\n",
      "2022-09-22-artifacts\n",
      "2022-10-11-hsi\n",
      "2022-11-07-reddit\n",
      "2022-11-08-busd-gap\n",
      "2022-11-18-turnover\n",
      "2022-11-22-bargaining\n",
      "2022-12-09-kutcher\n",
      "2023-01-31-union-vote\n",
      "2023-03-01-rent-map\n",
      "2023-03-10-telegraph-pedestrianized\n",
      "2023-06-30-warnme\n",
      "2023-12-20-theft\n",
      "2023-12-22-construction\n"
     ]
    }
   ],
   "source": [
    "for vf in vis_folders:\n",
    "    print(vf)\n",
    "    vis_files = os.listdir(os.path.join(vis_dir,vf))\n",
    "    for v in vis_files:\n",
    "        file_path = os.path.join(vis_dir,vf,v)\n",
    "        if not os.path.isfile(file_path):\n",
    "            continue\n",
    "        if 'data' in v.lower():\n",
    "            continue\n",
    "        else:\n",
    "            # renamed_v = v.title().replace('.Js','.js')\n",
    "            renamed_v = v[0].upper() + v[1:]\n",
    "            os.rename(file_path, os.path.join(vis_dir,vf,renamed_v))"
   ]
  }
 ],
 "metadata": {
  "kernelspec": {
   "display_name": "Python 3",
   "language": "python",
   "name": "python3"
  },
  "language_info": {
   "codemirror_mode": {
    "name": "ipython",
    "version": 3
   },
   "file_extension": ".py",
   "mimetype": "text/x-python",
   "name": "python",
   "nbconvert_exporter": "python",
   "pygments_lexer": "ipython3",
   "version": "3.10.11"
  }
 },
 "nbformat": 4,
 "nbformat_minor": 2
}
